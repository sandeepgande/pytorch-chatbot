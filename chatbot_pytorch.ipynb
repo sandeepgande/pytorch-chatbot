{
  "nbformat": 4,
  "nbformat_minor": 0,
  "metadata": {
    "colab": {
      "name": "chatbot pytorch test.ipynb",
      "provenance": [],
      "collapsed_sections": []
    },
    "kernelspec": {
      "name": "python3",
      "display_name": "Python 3"
    },
    "language_info": {
      "name": "python"
    }
  },
  "cells": [
    {
      "cell_type": "code",
      "metadata": {
        "colab": {
          "base_uri": "https://localhost:8080/"
        },
        "id": "MF-y0Jih2lsp",
        "outputId": "940e0d30-0930-4fb0-f188-dba92eaaf81d"
      },
      "source": [
        "import numpy as np\n",
        "import nltk\n",
        "import json\n",
        "import random\n",
        "nltk.download('punkt')\n",
        "from nltk.stem.porter import PorterStemmer\n",
        "stemmer = PorterStemmer()\n",
        "from torch.utils.data import Dataset, DataLoader\n",
        "import torch\n",
        "import torch.nn as nn"
      ],
      "execution_count": 1,
      "outputs": [
        {
          "output_type": "stream",
          "text": [
            "[nltk_data] Downloading package punkt to /root/nltk_data...\n",
            "[nltk_data]   Package punkt is already up-to-date!\n"
          ],
          "name": "stdout"
        }
      ]
    },
    {
      "cell_type": "code",
      "metadata": {
        "id": "AY74IL3_3SGL"
      },
      "source": [
        "def tokenize(sentence):\n",
        "    \"\"\"\n",
        "    split sentence into array of words/tokens\n",
        "    a token can be a word or punctuation character, or number\n",
        "    \"\"\"\n",
        "    return nltk.word_tokenize(sentence)\n",
        "\n",
        "\n",
        "def stem(word):\n",
        "    \"\"\"\n",
        "    stemming = find the root form of the word\n",
        "    examples:\n",
        "    words = [\"organize\", \"organizes\", \"organizing\"]\n",
        "    words = [stem(w) for w in words]\n",
        "    -> [\"organ\", \"organ\", \"organ\"]\n",
        "    \"\"\"\n",
        "    return stemmer.stem(word.lower())\n",
        "\n",
        "\n",
        "def bag_of_words(tokenized_sentence, words):\n",
        "    \"\"\"\n",
        "    return bag of words array:\n",
        "    1 for each known word that exists in the sentence, 0 otherwise\n",
        "    example:\n",
        "    sentence = [\"hello\", \"how\", \"are\", \"you\"]\n",
        "    words = [\"hi\", \"hello\", \"I\", \"you\", \"bye\", \"thank\", \"cool\"]\n",
        "    bog   = [  0 ,    1 ,    0 ,   1 ,    0 ,    0 ,      0]\n",
        "    \"\"\"\n",
        "    # stem each word\n",
        "    sentence_words = [stem(word) for word in tokenized_sentence]\n",
        "    # initialize bag with 0 for each word\n",
        "    bag = np.zeros(len(words), dtype=np.float32)\n",
        "    for idx, w in enumerate(words):\n",
        "        if w in sentence_words: \n",
        "            bag[idx] = 1\n",
        "\n",
        "    return bag"
      ],
      "execution_count": 2,
      "outputs": []
    },
    {
      "cell_type": "code",
      "metadata": {
        "id": "GSYrStT93WCZ"
      },
      "source": [
        "class NeuralNet(nn.Module):\n",
        "    def __init__(self, input_size, hidden_size, num_classes):\n",
        "        super(NeuralNet, self).__init__()\n",
        "        self.l1 = nn.Linear(input_size, hidden_size) \n",
        "        self.l2 = nn.Linear(hidden_size, hidden_size) \n",
        "        self.l3 = nn.Linear(hidden_size, num_classes)\n",
        "        self.relu = nn.ReLU()\n",
        "    \n",
        "    def forward(self, x):\n",
        "        out = self.l1(x)\n",
        "        out = self.relu(out)\n",
        "        out = self.l2(out)\n",
        "        out = self.relu(out)\n",
        "        out = self.l3(out)\n",
        "        # no activation and no softmax at the end\n",
        "        return out"
      ],
      "execution_count": 3,
      "outputs": []
    },
    {
      "cell_type": "code",
      "metadata": {
        "id": "h9TnyAiA3h1_"
      },
      "source": [
        "file_path = '/content/intents.json'\n",
        "with open(file_path, 'r') as f:\n",
        "    intents = json.load(f)"
      ],
      "execution_count": 4,
      "outputs": []
    },
    {
      "cell_type": "code",
      "metadata": {
        "id": "QGiWEP0g8zsq"
      },
      "source": [
        "all_words = []\n",
        "tags = []\n",
        "xy = []\n",
        "# loop through each sentence in our intents patterns\n",
        "for intent in intents['intents']:\n",
        "    tag = intent['tag']\n",
        "    # add to tag list\n",
        "    tags.append(tag)\n",
        "    for pattern in intent['patterns']:\n",
        "        # tokenize each word in the sentence\n",
        "        w = tokenize(pattern)\n",
        "        # add to our words list\n",
        "        all_words.extend(w)\n",
        "        # add to xy pair\n",
        "        xy.append((w, tag))"
      ],
      "execution_count": 5,
      "outputs": []
    },
    {
      "cell_type": "code",
      "metadata": {
        "colab": {
          "base_uri": "https://localhost:8080/"
        },
        "id": "iktfqLpD82xL",
        "outputId": "8e3f0a39-67f7-4730-d50f-298bfe7f3bb5"
      },
      "source": [
        "# stem and lower each word\n",
        "ignore_words = ['?', '.', '!']\n",
        "all_words = [stem(w) for w in all_words if w not in ignore_words]\n",
        "# remove duplicates and sort\n",
        "all_words = sorted(set(all_words))\n",
        "tags = sorted(set(tags))\n",
        "\n",
        "print(len(xy), \"patterns\")\n",
        "print(len(tags), \"tags:\", tags)\n",
        "print(len(all_words), \"unique stemmed words:\", all_words)"
      ],
      "execution_count": 6,
      "outputs": [
        {
          "output_type": "stream",
          "text": [
            "236 patterns\n",
            "46 tags: ['Company_details', 'achievements', 'cancelations-refunds', 'change', 'class_enroll', 'classes_levels', 'coding', 'coding_language', 'contact', 'course_enroll', 'course_levels', 'coursecontents', 'courseprice', 'courses', 'difference', 'eligible', 'goodbye', 'greeting', 'help', 'liveclassescontents', 'liveclassesprice', 'mentors', 'missed_class', 'monitor', 'mulitple_courses', 'noanswer', 'offers', 'options', 'outcome', 'partners', 'payment_platforms', 'prerequisite', 'programming_language', 'size', 'special', 'specific_questions', 'specific_questions1', 'specific_questions2', 'specific_questions3', 'specific_questions4', 'specific_questions5', 'statistics', 'suggestions', 'thanks', 'time', 'values']\n",
            "365 unique stemmed words: [\"'s\", ',', '..', '...', '.can', '1', '1-1', '10', '11', '12', '13', '14', '2', '3', '4', '5', '6', '7', '8', '9', 'a', 'about', 'accommod', 'achiev', 'across', 'ad', 'advanc', 'after', 'age', 'aid', 'all', 'alloc', 'am', 'an', 'ani', 'anyon', 'app', 'app.which', 'are', 'as', 'asid', 'assign', 'at', 'attend', 'avail', 'awesom', 'base', 'basic', 'batch', 'be', 'becom', 'begin', 'belong', 'benefit', 'best', 'better', 'between', 'branch', 'build', 'by', 'bye', 'byjus/oth', 'call', 'can', 'cancel', 'career', 'certif', 'chang', 'chat', 'chatbot', 'child', 'children', 'choos', 'chore', 'class', 'clearanc', 'code', 'codekaroyaaro', 'codekaroyaro', 'coder', 'coding.how', 'coding.i', 'collabor', 'compani', 'complet', 'comput', 'concess', 'contact', 'contain', 'content', 'continu', 'convinc', 'core', 'corpor', 'corporatepartn', 'cost', 'cost/pric', 'could', 'coures', 'cours', 'creat', 'data', 'day', 'deeplearn', 'demo', 'design', 'detail', 'develop', 'did', 'differ', 'digit', 'discount', 'distribut', 'divid', 'do', 'doe', 'doubt', 'durat', 'dure', 'e-learn', 'each', 'earli', 'educ', 'effect', 'email', 'emi', 'end', 'engin', 'english', 'enrol', 'essenti', 'etc', 'everyday', 'everyon', 'exist', 'expect', 'experi', 'faculti', 'far', 'fee', 'feedback', 'financi', 'finish', 'first', 'flexibl', 'footbal', 'for', 'foreign', 'founder', 'from', 'futur', 'game', 'game.which', 'games.which', 'get', 'give', 'good', 'goodby', 'grade', 'group', 'guid', 'ha', 'hard', 'have', 'he', 'he/sh', 'held', 'hello', 'help', 'hey', 'hi', 'highli', 'him', 'him/her', 'his/her', 'hola', 'homework', 'hour', 'how', 'i', 'if', 'impact', 'import', 'improv', 'in', 'india.i', 'individu', 'inform', 'instal', 'interact', 'interest', 'intermedi', 'is', 'issu', 'it', 'java', 'java/python/html/', 'join', 'karo', 'kid', 'know', 'languag', 'laptop.how', 'later', 'lazi', 'learn', 'leav', 'level', 'like', 'list', 'live', 'long', 'look', 'lot', 'love', 'machinelearn', 'made', 'main', 'maintain', 'make', 'mani', 'materi', 'math', 'may', 'md', 'me', 'mentor', 'merit', 'messag', 'midway', 'miss', 'mobil', 'monitor', 'more', 'most', 'mt', 'much', 'multipl', 'my', \"n't\", 'necessari', 'need', 'next', 'nice', 'no', 'not', 'of', 'offer', 'offlin', 'on', 'one', 'oper', 'option', 'or', 'other', 'our', 'out', 'own', 'pack', 'parent', 'partner', 'pay', 'payment', 'per', 'person', 'phone', 'platform', 'play', 'price', 'profession', 'program', 'promis', 'provid', 'python', 'qualifi', 'rather', 'reach', 'reason', 'reduct', 'refund', 'regular', 'requir', 'robot', 'same', 'say', 'school', 'scienc', 'see', 'servic', 'session', 'should', 'show', 'showcas', 'shown', 'sit', 'so', 'softwar', 'some', 'special', 'st/sc/obc', 'stage', 'start', 'starter', 'statist', 'strength', 'stress/health', 'student', 'student.can', 'studi', 'subscript', 'such', 'suggest', 'suitabl', 'support', 'switch', 'talk', 'taught', 'teach', 'teacher', 'tell', 'testimoni', 'than', 'thank', 'that', 'the', 'there', 'these', 'thi', 'those', 'till', 'time', 'to', 'too', 'total', 'treat', 'trend', 'tutor', 'type', 'uniqu', 'us', 'valu', 'variou', 'video', 'wa', 'want', 'way', 'we', 'websit', 'website.which', 'what', 'when', 'where', 'whi', 'which', 'who', 'will', 'with', 'wo', 'work', 'write', 'yaaro', 'you', 'younger', 'your', '—']\n"
          ],
          "name": "stdout"
        }
      ]
    },
    {
      "cell_type": "code",
      "metadata": {
        "id": "RRXn-gk385hR"
      },
      "source": [
        "# create training data\n",
        "X_train = []\n",
        "y_train = []\n",
        "for (pattern_sentence, tag) in xy:\n",
        "    # X: bag of words for each pattern_sentence\n",
        "    bag = bag_of_words(pattern_sentence, all_words)\n",
        "    X_train.append(bag)\n",
        "    # y: PyTorch CrossEntropyLoss needs only class labels, not one-hot\n",
        "    label = tags.index(tag)\n",
        "    y_train.append(label)"
      ],
      "execution_count": 7,
      "outputs": []
    },
    {
      "cell_type": "code",
      "metadata": {
        "id": "WsZrx5A78-rH"
      },
      "source": [
        "X_train = np.array(X_train)\n",
        "y_train = np.array(y_train)"
      ],
      "execution_count": 8,
      "outputs": []
    },
    {
      "cell_type": "code",
      "metadata": {
        "colab": {
          "base_uri": "https://localhost:8080/"
        },
        "id": "A3DL6-8I9Bnh",
        "outputId": "b3eb4e9d-236b-46d2-df9c-e1b6ee940753"
      },
      "source": [
        "# Hyper-parameters \n",
        "num_epochs = 1000\n",
        "batch_size = 8\n",
        "learning_rate = 0.001\n",
        "input_size = len(X_train[0])\n",
        "hidden_size = 8\n",
        "output_size = len(tags)\n",
        "print(input_size, output_size)"
      ],
      "execution_count": 9,
      "outputs": [
        {
          "output_type": "stream",
          "text": [
            "365 46\n"
          ],
          "name": "stdout"
        }
      ]
    },
    {
      "cell_type": "code",
      "metadata": {
        "id": "RrgcauB84UTL"
      },
      "source": [
        "class ChatDataset(Dataset):\n",
        "\n",
        "    def __init__(self):\n",
        "        self.n_samples = len(X_train)\n",
        "        self.x_data = X_train\n",
        "        self.y_data = y_train\n",
        "\n",
        "    # support indexing such that dataset[i] can be used to get i-th sample\n",
        "    def __getitem__(self, index):\n",
        "        return self.x_data[index], self.y_data[index]\n",
        "\n",
        "    # we can call len(dataset) to return the size\n",
        "    def __len__(self):\n",
        "        return self.n_samples\n",
        "\n",
        "dataset = ChatDataset()\n",
        "train_loader = DataLoader(dataset=dataset,\n",
        "                          batch_size=batch_size,\n",
        "                          shuffle=True,\n",
        "                          num_workers=0)\n",
        "\n",
        "device = torch.device('cuda' if torch.cuda.is_available() else 'cpu')\n",
        "\n",
        "model = NeuralNet(input_size, hidden_size, output_size).to(device)\n",
        "\n",
        "# Loss and optimizer\n",
        "criterion = nn.CrossEntropyLoss()\n",
        "optimizer = torch.optim.Adam(model.parameters(), lr=learning_rate)"
      ],
      "execution_count": 10,
      "outputs": []
    },
    {
      "cell_type": "code",
      "metadata": {
        "colab": {
          "base_uri": "https://localhost:8080/"
        },
        "id": "JSy6VK-I4v6A",
        "outputId": "9bb4136e-8e0c-464e-ed74-2d83d34abec2"
      },
      "source": [
        "for epoch in range(num_epochs):\n",
        "    for (words, labels) in train_loader:\n",
        "        words = words.to(device)\n",
        "        labels = labels.to(dtype=torch.long).to(device)\n",
        "        \n",
        "        # Forward pass\n",
        "        outputs = model(words)\n",
        "        # if y would be one-hot, we must apply\n",
        "        # labels = torch.max(labels, 1)[1]\n",
        "        loss = criterion(outputs, labels)\n",
        "        \n",
        "        # Backward and optimize\n",
        "        optimizer.zero_grad()\n",
        "        loss.backward()\n",
        "        optimizer.step()\n",
        "    \n",
        "    if (epoch+1) % 100 == 0:\n",
        "        print (f'Epoch [{epoch+1}/{num_epochs}], Loss: {loss.item():.4f}')"
      ],
      "execution_count": 11,
      "outputs": [
        {
          "output_type": "stream",
          "text": [
            "Epoch [100/1000], Loss: 0.0567\n",
            "Epoch [200/1000], Loss: 0.0155\n",
            "Epoch [300/1000], Loss: 0.0010\n",
            "Epoch [400/1000], Loss: 0.2626\n",
            "Epoch [500/1000], Loss: 0.0001\n",
            "Epoch [600/1000], Loss: 0.0000\n",
            "Epoch [700/1000], Loss: 0.2096\n",
            "Epoch [800/1000], Loss: 0.0000\n",
            "Epoch [900/1000], Loss: 0.1843\n",
            "Epoch [1000/1000], Loss: 0.0000\n"
          ],
          "name": "stdout"
        }
      ]
    },
    {
      "cell_type": "code",
      "metadata": {
        "id": "xPCiPiaYAe6n",
        "colab": {
          "base_uri": "https://localhost:8080/"
        },
        "outputId": "3074fa09-801e-4517-a259-a7e2c4fe177b"
      },
      "source": [
        "bot_name = \"Sam\"\n",
        "print(\"Let's chat! (type 'quit' to exit)\")\n",
        "while True:\n",
        "  # sentence = \"do you use credit cards?\"\n",
        "  sentence = input(\"You: \")\n",
        "  if sentence == \"quit\":\n",
        "      break\n",
        "\n",
        "  sentence = tokenize(sentence)\n",
        "  X = bag_of_words(sentence, all_words)\n",
        "  X = X.reshape(1, X.shape[0])\n",
        "  X = torch.from_numpy(X).to(device)\n",
        "\n",
        "  output = model(X)\n",
        "  _, predicted = torch.max(output, dim=1)\n",
        "\n",
        "  tag = tags[predicted.item()]\n",
        "\n",
        "  probs = torch.softmax(output, dim=1)\n",
        "  prob = probs[0][predicted.item()]\n",
        "  if prob.item() > 0.75:\n",
        "      for intent in intents['intents']:\n",
        "          if tag == intent[\"tag\"]:\n",
        "              print(f\"{bot_name}: {random.choice(intent['responses'])}\")\n",
        "  else:\n",
        "      print(f\"{bot_name}: I do not understand...\")"
      ],
      "execution_count": 12,
      "outputs": [
        {
          "output_type": "stream",
          "text": [
            "Let's chat! (type 'quit' to exit)\n",
            "You: hi\n",
            "Sam: Hello, thanks for asking\n",
            "You: how could you help me?\n",
            "Sam: Offering support for little coders, Live Interactive classes\n",
            "You: which languages do you teach?\n",
            "Sam: It completely depends on the age and interest of an individual.Students need to be guided properly.You can contact us regarding this.\n",
            "You: how should i enroll?\n",
            "Sam: Choose Course which you want to enroll yourself.Fill the details Make your payment and enjoy CODING\n",
            "You: thanks\n",
            "Sam: My pleasure\n",
            "You: bye!\n",
            "Sam: Have a nice day\n",
            "You: quit\n"
          ],
          "name": "stdout"
        }
      ]
    },
    {
      "cell_type": "code",
      "metadata": {
        "id": "deSkJv8S5F2q"
      },
      "source": [
        ""
      ],
      "execution_count": 12,
      "outputs": []
    }
  ]
}